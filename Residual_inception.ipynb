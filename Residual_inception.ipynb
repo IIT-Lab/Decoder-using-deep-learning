{
  "nbformat": 4,
  "nbformat_minor": 0,
  "metadata": {
    "colab": {
      "name": "Vivek_2Resnet_Inception_bugfix.ipynb",
      "version": "0.3.2",
      "views": {},
      "default_view": {},
      "provenance": [
        {
          "file_id": "1kc6dibDrprOmzmuA9VcyA_1zw1uENyMy",
          "timestamp": 1531400893417
        },
        {
          "file_id": "1SN6Bk45HCb3pgd7WAohgo2rhM9fyCgjQ",
          "timestamp": 1531317847738
        }
      ],
      "collapsed_sections": []
    },
    "kernelspec": {
      "display_name": "Python 3",
      "language": "python",
      "name": "python3"
    },
    "accelerator": "GPU"
  },
  "cells": [
    {
      "metadata": {
        "id": "0rUvGcQBh49c",
        "colab_type": "code",
        "colab": {
          "autoexec": {
            "startup": false,
            "wait_interval": 0
          },
          "base_uri": "https://localhost:8080/",
          "height": 312
        },
        "outputId": "47be6f1c-6ec2-4e60-c3c3-96e9f0614cd5",
        "executionInfo": {
          "status": "ok",
          "timestamp": 1532016644655,
          "user_tz": -120,
          "elapsed": 1727,
          "user": {
            "displayName": "Vivek ramalingam k",
            "photoUrl": "https://lh3.googleusercontent.com/a/default-user=s128",
            "userId": "113898794527632622346"
          }
        }
      },
      "cell_type": "code",
      "source": [
        "!nvidia-smi"
      ],
      "execution_count": 1,
      "outputs": [
        {
          "output_type": "stream",
          "text": [
            "Thu Jul 19 16:12:38 2018       \r\n",
            "+-----------------------------------------------------------------------------+\r\n",
            "| NVIDIA-SMI 384.111                Driver Version: 384.111                   |\r\n",
            "|-------------------------------+----------------------+----------------------+\r\n",
            "| GPU  Name        Persistence-M| Bus-Id        Disp.A | Volatile Uncorr. ECC |\r\n",
            "| Fan  Temp  Perf  Pwr:Usage/Cap|         Memory-Usage | GPU-Util  Compute M. |\r\n",
            "|===============================+======================+======================|\r\n",
            "|   0  Tesla K80           Off  | 00000000:00:04.0 Off |                    0 |\r\n",
            "| N/A   36C    P8    30W / 149W |      0MiB / 11439MiB |      0%      Default |\r\n",
            "+-------------------------------+----------------------+----------------------+\r\n",
            "                                                                               \r\n",
            "+-----------------------------------------------------------------------------+\r\n",
            "| Processes:                                                       GPU Memory |\r\n",
            "|  GPU       PID   Type   Process name                             Usage      |\r\n",
            "|=============================================================================|\r\n",
            "|  No running processes found                                                 |\r\n",
            "+-----------------------------------------------------------------------------+\r\n"
          ],
          "name": "stdout"
        }
      ]
    },
    {
      "metadata": {
        "id": "_Dj8Ooknh49Y",
        "colab_type": "text"
      },
      "cell_type": "markdown",
      "source": [
        "# On Deep Learning-Based Channel Decoding\n",
        "\n",
        "If you want to cite this notebook, please use the following bibtext entry:\n",
        "\n",
        "    @article{nn-decoding,\n",
        "      title={On Deep Learning-Based Channel Decoding},\n",
        "      author={Tobias Gruber and\n",
        "              Sebastian Cammerer and\n",
        "              Jakob Hoydis and\n",
        "              Stephan ten Brink}\n",
        "      journal={CoRR}\n",
        "      year={2017}\n",
        "      url= {http://arxiv.org/abs/1701.07738}\n",
        "    }\n",
        "\n",
        "Running this example requires Keras installed with the Tensorflow backend. For GPU support nvidia-docker is required. A Dockerfile is provided to employ this setup quickly.\n",
        "\n",
        "Our simulation setup was inspired by material from http://radioml.org.\n"
      ]
    },
    {
      "metadata": {
        "id": "VpSwCmIzh490",
        "colab_type": "code",
        "colab": {
          "autoexec": {
            "startup": false,
            "wait_interval": 0
          },
          "base_uri": "https://localhost:8080/",
          "height": 35
        },
        "outputId": "ba138fcb-d1c1-4f44-c7ed-5c613328018e",
        "executionInfo": {
          "status": "ok",
          "timestamp": 1532016653047,
          "user_tz": -120,
          "elapsed": 8099,
          "user": {
            "displayName": "Vivek ramalingam k",
            "photoUrl": "https://lh3.googleusercontent.com/a/default-user=s128",
            "userId": "113898794527632622346"
          }
        }
      },
      "cell_type": "code",
      "source": [
        "# Setting environment variable so that only GPU0 is visible\n",
        "import os\n",
        "os.environ[\"CUDA_VISIBLE_DEVICES\"]=\"1\"\n",
        "\n",
        "import tensorflow as tf\n",
        "import keras.backend.tensorflow_backend as KTF\n",
        "\n",
        "def get_session(gpu_fraction=0.1):\n",
        "    \n",
        "    num_threads = os.environ.get('OMP_NUM_THREADS')\n",
        "    gpu_options = tf.GPUOptions(per_process_gpu_memory_fraction=gpu_fraction)\n",
        "\n",
        "    if num_threads:\n",
        "        return tf.Session(config=tf.ConfigProto(\n",
        "            gpu_options=gpu_options, intra_op_parallelism_threads=num_threads))\n",
        "    else:\n",
        "        return tf.Session(config=tf.ConfigProto(gpu_options=gpu_options))\n",
        "\n",
        "KTF.set_session(get_session())"
      ],
      "execution_count": 2,
      "outputs": [
        {
          "output_type": "stream",
          "text": [
            "Using TensorFlow backend.\n"
          ],
          "name": "stderr"
        }
      ]
    },
    {
      "metadata": {
        "id": "kJl8Kh0qh499",
        "colab_type": "code",
        "colab": {
          "autoexec": {
            "startup": false,
            "wait_interval": 0
          }
        }
      },
      "cell_type": "code",
      "source": [
        "import keras\n",
        "import numpy as np\n",
        "from keras.models import Sequential\n",
        "from keras.models import Sequential, Model\n",
        "from keras.layers import Conv1D, GlobalAveragePooling1D, MaxPooling1D, Flatten, Reshape, Concatenate, Add\n",
        "from keras.layers.core import Dense, Lambda\n",
        "from keras.layers import Input\n",
        "from keras import backend as K\n",
        "import matplotlib.pyplot as plt\n",
        "%matplotlib inline"
      ],
      "execution_count": 0,
      "outputs": []
    },
    {
      "metadata": {
        "id": "xOep4uGfh4-E",
        "colab_type": "text"
      },
      "cell_type": "markdown",
      "source": [
        "# Parameters"
      ]
    },
    {
      "metadata": {
        "id": "kIsl7wZth4-F",
        "colab_type": "code",
        "colab": {
          "autoexec": {
            "startup": false,
            "wait_interval": 0
          }
        }
      },
      "cell_type": "code",
      "source": [
        "k = 20                      # number of information bits\n",
        "N = 32                      # code length\n",
        "train_SNR_Eb = 3            # training-Eb/No\n",
        "\n",
        "nb_epoch = 1200           # number of learning epochs, why so huge?\n",
        "code = 'polar'              # type of code ('random' or 'polar'),\n",
        "design = [128, 64, 32]      # each list entry defines the number of nodes in a layer\n",
        "batch_size = 256            # size of batches for calculation the gradient\n",
        "LLR = False                 # 'True' enables the log-likelihood-ratio layer\n",
        "optimizer='Adam'\n",
        "loss = 'binary_crossentropy'                # or 'mse'\n",
        "\n",
        "train_SNR_Es = train_SNR_Eb + 10*np.log10(k/N)\n",
        "train_sigma = np.sqrt(1/(2*10**(train_SNR_Es/10)))"
      ],
      "execution_count": 0,
      "outputs": []
    },
    {
      "metadata": {
        "id": "u6gVVvPYh4-L",
        "colab_type": "text"
      },
      "cell_type": "markdown",
      "source": [
        "# Define helper functions"
      ]
    },
    {
      "metadata": {
        "id": "ok_nVicyh4-O",
        "colab_type": "code",
        "colab": {
          "autoexec": {
            "startup": false,
            "wait_interval": 0
          }
        }
      },
      "cell_type": "code",
      "source": [
        "def modulateBPSK(x):\n",
        "    return -2*x +1;\n",
        "\n",
        "def addNoise(x, sigma):\n",
        "    w = K.random_normal(K.shape(x), mean=0.0, stddev=sigma)\n",
        "    return x + w\n",
        "\n",
        "def ber(y_true, y_pred):\n",
        "    return K.mean(tf.cast(K.not_equal(y_true, K.round(y_pred)),tf.float32))\n",
        "\n",
        "def return_output_shape(input_shape):  \n",
        "    return input_shape\n",
        "\n",
        "def compose_model(layers):\n",
        "    model = Sequential()\n",
        "    for layer in layers:\n",
        "        model.add(layer)\n",
        "    return model\n",
        "\n",
        "def log_likelihood_ratio(x, sigma):\n",
        "    return 2*x/np.float32(sigma**2)\n",
        "\n",
        "def errors(y_true, y_pred):\n",
        "    return tf.reduce_sum(tf.cast(tf.not_equal(y_true, K.round(y_pred)),tf.float32))"
      ],
      "execution_count": 0,
      "outputs": []
    },
    {
      "metadata": {
        "id": "oYepEzD5h4-W",
        "colab_type": "text"
      },
      "cell_type": "markdown",
      "source": [
        "# Define the neural Network"
      ]
    },
    {
      "metadata": {
        "id": "XKKlY21hh4-Y",
        "colab_type": "text"
      },
      "cell_type": "markdown",
      "source": [
        "This block describes the neur"
      ]
    },
    {
      "metadata": {
        "id": "oQ7xMzAJh4-a",
        "colab_type": "code",
        "colab": {
          "autoexec": {
            "startup": false,
            "wait_interval": 0
          }
        }
      },
      "cell_type": "code",
      "source": [
        "#--------------functional API---------\n",
        "input_layer=Input(shape=(N,))\n",
        "\n",
        "m1 = Lambda(modulateBPSK, output_shape=return_output_shape, name=\"modulator\")(input_layer)\n",
        "\n",
        "n1=Lambda(addNoise, arguments={'sigma':train_sigma},output_shape=return_output_shape, name=\"noise\")(m1)\n",
        "\n",
        "#--------------ResNet decoder--------\n",
        "#define conv net\n",
        "Nstages=2 #5\n",
        "incept_dim=[8, 8, 8, 8, 8, 8, 8]\n",
        "incept_size=[2, 4, 8, 16, 32, 64, 32]\n",
        "\n",
        "ch_out=Reshape((N,1))(n1)\n",
        "dec_in=Input(shape=(N,))\n",
        "lt_out=Reshape((N,1))(dec_in)\n",
        "\n",
        "for i in range(0,Nstages):  \n",
        "    #inception block\n",
        "    if i == 0:\n",
        "        branch1 = Conv1D(filters=incept_dim[0], kernel_size=incept_size[0], activation='relu', padding='same')(lt_out)\n",
        "        branch2 = Conv1D(filters=incept_dim[1], kernel_size=incept_size[1], activation='relu', padding='same')(lt_out)       \n",
        "    if i == 1:\n",
        "        branch1 = Conv1D(filters=incept_dim[2], kernel_size=incept_size[2], activation='relu', padding='same')(lt_out)\n",
        "        branch2 = Conv1D(filters=incept_dim[3], kernel_size=incept_size[3], activation='relu', padding='same')(lt_out)       \n",
        "    if i == 2:\n",
        "        branch1 = Conv1D(filters=incept_dim[2], kernel_size=incept_size[2], activation='relu', padding='same')(lt_out)\n",
        "        branch2 = Conv1D(filters=incept_dim[4], kernel_size=incept_size[3], activation='relu', padding='same')(lt_out)        \n",
        "    if i == 3:\n",
        "        branch1 = Conv1D(filters=incept_dim[2], kernel_size=incept_size[2], activation='relu', padding='same')(lt_out)\n",
        "        branch2 = Conv1D(filters=incept_dim[3], kernel_size=incept_size[3], activation='relu', padding='same')(lt_out)\n",
        "        \n",
        "    lt=Concatenate()([branch1, branch2])\n",
        "    \n",
        "    lt_short=lt_out\n",
        "   \n",
        "    lt_out=Add()([lt, lt_short])  \n",
        "\n",
        "lt_out=Flatten()(lt_out)\n",
        "l_out_pre1 = Dense(80,activation='relu')(lt_out)\n",
        "l_out_pre2 = Dense(60,activation='relu')(l_out_pre1)\n",
        "l_out_pre3 = Dense(35,activation='relu')(l_out_pre2)\n",
        "l_out=Dense(k,activation='sigmoid')(l_out_pre3)\n",
        "\n",
        "#l_out=Reshape((N,))(l_out)\n",
        "#l_out2=Reshape((N,))(l_out2)\n",
        "\n",
        "# Define model\n",
        "\n",
        "decoder_nn = Model(inputs=dec_in, outputs=[l_out])\n",
        "decoder_nn.compile(optimizer=optimizer, loss=loss, metrics=[errors,ber])\n",
        "\n",
        "\n",
        "l_out_t=decoder_nn(ch_out)\n",
        "#model_resnet = Model(inputs=input_layer, outputs=[l_out, l_out2])\n",
        "model_resnet = Model(inputs=input_layer, outputs=[l_out_t])\n",
        "\n",
        "#model.compile(optimizer=optimizer, loss=loss, metrics=[ber])\n",
        "#sgd = optimizers.SGD(lr=0.01, decay=1e-6, momentum=0.9, nesterov=True)\n",
        "model_resnet.compile(optimizer=optimizer, loss=loss, loss_weights=[1], metrics=[errors,ber])\n",
        "\n",
        "#model_resnet.summary()\n",
        "\n",
        "#define a shorter model for init learning\n",
        "#model_resnet_short = Model(inputs=input_layer, outputs=[l_out2])\n",
        "#model_resnet_short.compile(optimizer=optimizer, loss=loss, metrics=[ber])"
      ],
      "execution_count": 0,
      "outputs": []
    },
    {
      "metadata": {
        "id": "KW4egGZTy0MN",
        "colab_type": "code",
        "colab": {
          "autoexec": {
            "startup": false,
            "wait_interval": 0
          },
          "base_uri": "https://localhost:8080/",
          "height": 312
        },
        "outputId": "ea00f6bb-392b-4a42-f62e-cdc81446ce50",
        "executionInfo": {
          "status": "ok",
          "timestamp": 1532016658597,
          "user_tz": -120,
          "elapsed": 696,
          "user": {
            "displayName": "Vivek ramalingam k",
            "photoUrl": "https://lh3.googleusercontent.com/a/default-user=s128",
            "userId": "113898794527632622346"
          }
        }
      },
      "cell_type": "code",
      "source": [
        "model_resnet.summary()"
      ],
      "execution_count": 7,
      "outputs": [
        {
          "output_type": "stream",
          "text": [
            "_________________________________________________________________\n",
            "Layer (type)                 Output Shape              Param #   \n",
            "=================================================================\n",
            "input_1 (InputLayer)         (None, 32)                0         \n",
            "_________________________________________________________________\n",
            "modulator (Lambda)           (None, 32)                0         \n",
            "_________________________________________________________________\n",
            "noise (Lambda)               (None, 32)                0         \n",
            "_________________________________________________________________\n",
            "reshape_1 (Reshape)          (None, 32, 1)             0         \n",
            "_________________________________________________________________\n",
            "model_1 (Model)              (None, 20)                51907     \n",
            "=================================================================\n",
            "Total params: 51,907\n",
            "Trainable params: 51,907\n",
            "Non-trainable params: 0\n",
            "_________________________________________________________________\n"
          ],
          "name": "stdout"
        }
      ]
    },
    {
      "metadata": {
        "id": "ys2VNH-Oy0MW",
        "colab_type": "code",
        "colab": {
          "autoexec": {
            "startup": false,
            "wait_interval": 0
          }
        }
      },
      "cell_type": "code",
      "source": [
        ""
      ],
      "execution_count": 0,
      "outputs": []
    },
    {
      "metadata": {
        "id": "0GkAU9cxy0Md",
        "colab_type": "code",
        "colab": {
          "autoexec": {
            "startup": false,
            "wait_interval": 0
          }
        }
      },
      "cell_type": "code",
      "source": [
        ""
      ],
      "execution_count": 0,
      "outputs": []
    },
    {
      "metadata": {
        "id": "K-7y8wWoh4-h",
        "colab_type": "text"
      },
      "cell_type": "markdown",
      "source": [
        "# Data Generation"
      ]
    },
    {
      "metadata": {
        "id": "xCqcr4B9h4-m",
        "colab_type": "text"
      },
      "cell_type": "markdown",
      "source": [
        "The following block describes polar encoding. This is beyond the scope of this lecture (but necessary for data generation). For further details we refer to the \"Error Control Coding lecture\"."
      ]
    },
    {
      "metadata": {
        "id": "DcnM3neNh4-o",
        "colab_type": "code",
        "colab": {
          "autoexec": {
            "startup": false,
            "wait_interval": 0
          }
        }
      },
      "cell_type": "code",
      "source": [
        "def half_adder(a,b):\n",
        "    s = a ^ b\n",
        "    c = a & b\n",
        "    return s,c\n",
        "\n",
        "def full_adder(a,b,c):\n",
        "    s = (a ^ b) ^ c\n",
        "    c = (a & b) | (c & (a ^ b))\n",
        "    return s,c\n",
        "\n",
        "def add_bool(a,b):\n",
        "    if len(a) != len(b):\n",
        "        raise ValueError('arrays with different length')\n",
        "    k = len(a)\n",
        "    s = np.zeros(k,dtype=bool)\n",
        "    c = False\n",
        "    for i in reversed(range(0,k)):\n",
        "        s[i], c = full_adder(a[i],b[i],c)    \n",
        "    if c:\n",
        "        warnings.warn(\"Addition overflow!\")\n",
        "    return s\n",
        "\n",
        "def inc_bool(a):\n",
        "    k = len(a)\n",
        "    increment = np.hstack((np.zeros(k-1,dtype=bool), np.ones(1,dtype=bool)))\n",
        "    a = add_bool(a,increment)\n",
        "    return a\n",
        "\n",
        "def bitrevorder(x):\n",
        "    m = np.amax(x)\n",
        "    n = np.ceil(np.log2(m)).astype(int)\n",
        "    for i in range(0,len(x)):\n",
        "        x[i] = int('{:0{n}b}'.format(x[i],n=n)[::-1],2)  \n",
        "    return x\n",
        "\n",
        "def int2bin(x,N):\n",
        "    if isinstance(x, list) or isinstance(x, np.ndarray):\n",
        "        binary = np.zeros((len(x),N),dtype='bool')\n",
        "        for i in range(0,len(x)):\n",
        "            binary[i] = np.array([int(j) for j in bin(x[i])[2:].zfill(N)])\n",
        "    else:\n",
        "        binary = np.array([int(j) for j in bin(x)[2:].zfill(N)],dtype=bool)\n",
        "    \n",
        "    return binary\n",
        "\n",
        "def bin2int(b):\n",
        "    if isinstance(b[0], list):\n",
        "        integer = np.zeros((len(b),),dtype=int)\n",
        "        for i in range(0,len(b)):\n",
        "            out = 0\n",
        "            for bit in b[i]:\n",
        "                out = (out << 1) | bit\n",
        "            integer[i] = out\n",
        "    elif isinstance(b, np.ndarray):\n",
        "        if len(b.shape) == 1:\n",
        "            out = 0\n",
        "            for bit in b:\n",
        "                out = (out << 1) | bit\n",
        "            integer = out     \n",
        "        else:\n",
        "            integer = np.zeros((b.shape[0],),dtype=int)\n",
        "            for i in range(0,b.shape[0]):\n",
        "                out = 0\n",
        "                for bit in b[i]:\n",
        "                    out = (out << 1) | bit\n",
        "                integer[i] = out\n",
        "        \n",
        "    return integer\n",
        "\n",
        "def polar_design_awgn(N, k, design_snr_dB):  \n",
        "        \n",
        "    S = 10**(design_snr_dB/10)\n",
        "    z0 = np.zeros(N)\n",
        "\n",
        "    z0[0] = np.exp(-S)\n",
        "    for j in range(1,int(np.log2(N))+1):\n",
        "        u = 2**j\n",
        "        for t in range(0,int(u/2)):\n",
        "            T = z0[t]\n",
        "            z0[t] = 2*T - T**2     # upper channel\n",
        "            z0[int(u/2)+t] = T**2  # lower channel\n",
        "        \n",
        "    # sort into increasing order\n",
        "    idx = np.argsort(z0)\n",
        "        \n",
        "    # select k best channels\n",
        "    idx = np.sort(bitrevorder(idx[0:k]))\n",
        "    \n",
        "    A = np.zeros(N, dtype=bool)\n",
        "    A[idx] = True\n",
        "        \n",
        "    return A\n",
        "\n",
        "def polar_transform_iter(u):\n",
        "\n",
        "    N = len(u)\n",
        "    n = 1\n",
        "    x = np.copy(u)\n",
        "    stages = np.log2(N).astype(int)\n",
        "    for s in range(0,stages):\n",
        "        i = 0\n",
        "        while i < N:\n",
        "            for j in range(0,n):\n",
        "                idx = i+j\n",
        "                x[idx] = x[idx] ^ x[idx+n]\n",
        "            i=i+2*n\n",
        "        n=2*n\n",
        "    return x"
      ],
      "execution_count": 0,
      "outputs": []
    },
    {
      "metadata": {
        "id": "JZs_IsLfh4-x",
        "colab_type": "code",
        "colab": {
          "autoexec": {
            "startup": false,
            "wait_interval": 0
          }
        }
      },
      "cell_type": "code",
      "source": [
        "# Create all possible information words\n",
        "d = np.zeros((2**k,k),dtype=bool)\n",
        "for i in range(1,2**k):\n",
        "    d[i]= inc_bool(d[i-1])\n",
        "\n",
        "# Create sets of all possible codewords (codebook)\n",
        "if code == 'polar':   \n",
        "    \n",
        "    A = polar_design_awgn(N, k, design_snr_dB=0)  # logical vector indicating the nonfrozen bit locations \n",
        "    x = np.zeros((2**k, N),dtype=bool)\n",
        "    u = np.zeros((2**k, N),dtype=bool)\n",
        "    u[:,A] = d\n",
        "    for i in range(0,2**k):\n",
        "        x[i] = polar_transform_iter(u[i])\n",
        "\n",
        "elif code == 'random':\n",
        "    \n",
        "    np.random.seed(4267)   # for a 16bit Random Code (r=0.5) with Hamming distance >= 2\n",
        "    x = np.random.randint(0,2,size=(2**k,N), dtype=bool)"
      ],
      "execution_count": 0,
      "outputs": []
    },
    {
      "metadata": {
        "id": "OmLyR1PSh4-4",
        "colab_type": "text"
      },
      "cell_type": "markdown",
      "source": [
        "# Train Neural Network"
      ]
    },
    {
      "metadata": {
        "id": "oAwgWaGay0M2",
        "colab_type": "code",
        "colab": {
          "autoexec": {
            "startup": false,
            "wait_interval": 0
          }
        }
      },
      "cell_type": "code",
      "source": [
        "# history = model_resnet_short.fit(x, [d], batch_size=batch_size, epochs=nb_epoch, verbose=2, shuffle=True)"
      ],
      "execution_count": 0,
      "outputs": []
    },
    {
      "metadata": {
        "id": "Tp6IdeSZy0M_",
        "colab_type": "code",
        "colab": {
          "autoexec": {
            "startup": false,
            "wait_interval": 0
          }
        }
      },
      "cell_type": "code",
      "source": [
        "##history = model_resnet.fit(x, [d, d], batch_size=batch_size, epochs=nb_epoch, verbose=2, shuffle=True)"
      ],
      "execution_count": 0,
      "outputs": []
    },
    {
      "metadata": {
        "id": "AvEkA5Mbh4-5",
        "colab_type": "code",
        "colab": {
          "autoexec": {
            "startup": false,
            "wait_interval": 0
          },
          "base_uri": "https://localhost:8080/",
          "height": 1867
        },
        "outputId": "ad753115-bbd3-40f5-97f6-6fc485b9e2bf",
        "executionInfo": {
          "status": "error",
          "timestamp": 1532017607502,
          "user_tz": -120,
          "elapsed": 876092,
          "user": {
            "displayName": "Vivek ramalingam k",
            "photoUrl": "https://lh3.googleusercontent.com/a/default-user=s128",
            "userId": "113898794527632622346"
          }
        }
      },
      "cell_type": "code",
      "source": [
        "model_resnet.summary()\n",
        "#history = model.fit(x, d, batch_size=batch_size, nb_epoch=nb_epoch, verbose=0, shuffle=True)\n",
        "history = model_resnet.fit(x, d, batch_size=batch_size, epochs=nb_epoch, verbose=2, shuffle=True)"
      ],
      "execution_count": 12,
      "outputs": [
        {
          "output_type": "stream",
          "text": [
            "_________________________________________________________________\n",
            "Layer (type)                 Output Shape              Param #   \n",
            "=================================================================\n",
            "input_1 (InputLayer)         (None, 32)                0         \n",
            "_________________________________________________________________\n",
            "modulator (Lambda)           (None, 32)                0         \n",
            "_________________________________________________________________\n",
            "noise (Lambda)               (None, 32)                0         \n",
            "_________________________________________________________________\n",
            "reshape_1 (Reshape)          (None, 32, 1)             0         \n",
            "_________________________________________________________________\n",
            "model_1 (Model)              (None, 20)                51907     \n",
            "=================================================================\n",
            "Total params: 51,907\n",
            "Trainable params: 51,907\n",
            "Non-trainable params: 0\n",
            "_________________________________________________________________\n",
            "Epoch 1/1200\n",
            " - 110s - loss: 0.5413 - errors: 1772.2759 - ber: 0.3461\n",
            "Epoch 2/1200\n",
            " - 110s - loss: 0.4951 - errors: 1565.9741 - ber: 0.3059\n",
            "Epoch 3/1200\n",
            " - 109s - loss: 0.4903 - errors: 1553.2554 - ber: 0.3034\n",
            "Epoch 4/1200\n",
            " - 109s - loss: 0.4687 - errors: 1468.8542 - ber: 0.2869\n",
            "Epoch 5/1200\n",
            " - 110s - loss: 0.4397 - errors: 1353.0991 - ber: 0.2643\n",
            "Epoch 6/1200\n",
            " - 110s - loss: 0.4096 - errors: 1272.8933 - ber: 0.2486\n",
            "Epoch 7/1200\n",
            " - 110s - loss: 0.3921 - errors: 1233.8931 - ber: 0.2410\n",
            "Epoch 8/1200\n"
          ],
          "name": "stdout"
        },
        {
          "output_type": "error",
          "ename": "KeyboardInterrupt",
          "evalue": "ignored",
          "traceback": [
            "\u001b[0;31m---------------------------------------------------------------------------\u001b[0m",
            "\u001b[0;31mKeyboardInterrupt\u001b[0m                         Traceback (most recent call last)",
            "\u001b[0;32m<ipython-input-12-026a11fe6c8b>\u001b[0m in \u001b[0;36m<module>\u001b[0;34m()\u001b[0m\n\u001b[1;32m      1\u001b[0m \u001b[0mmodel_resnet\u001b[0m\u001b[0;34m.\u001b[0m\u001b[0msummary\u001b[0m\u001b[0;34m(\u001b[0m\u001b[0;34m)\u001b[0m\u001b[0;34m\u001b[0m\u001b[0m\n\u001b[1;32m      2\u001b[0m \u001b[0;31m#history = model.fit(x, d, batch_size=batch_size, nb_epoch=nb_epoch, verbose=0, shuffle=True)\u001b[0m\u001b[0;34m\u001b[0m\u001b[0;34m\u001b[0m\u001b[0m\n\u001b[0;32m----> 3\u001b[0;31m \u001b[0mhistory\u001b[0m \u001b[0;34m=\u001b[0m \u001b[0mmodel_resnet\u001b[0m\u001b[0;34m.\u001b[0m\u001b[0mfit\u001b[0m\u001b[0;34m(\u001b[0m\u001b[0mx\u001b[0m\u001b[0;34m,\u001b[0m \u001b[0md\u001b[0m\u001b[0;34m,\u001b[0m \u001b[0mbatch_size\u001b[0m\u001b[0;34m=\u001b[0m\u001b[0mbatch_size\u001b[0m\u001b[0;34m,\u001b[0m \u001b[0mepochs\u001b[0m\u001b[0;34m=\u001b[0m\u001b[0mnb_epoch\u001b[0m\u001b[0;34m,\u001b[0m \u001b[0mverbose\u001b[0m\u001b[0;34m=\u001b[0m\u001b[0;36m2\u001b[0m\u001b[0;34m,\u001b[0m \u001b[0mshuffle\u001b[0m\u001b[0;34m=\u001b[0m\u001b[0;32mTrue\u001b[0m\u001b[0;34m)\u001b[0m\u001b[0;34m\u001b[0m\u001b[0m\n\u001b[0m",
            "\u001b[0;32m/usr/local/lib/python3.6/dist-packages/keras/engine/training.py\u001b[0m in \u001b[0;36mfit\u001b[0;34m(self, x, y, batch_size, epochs, verbose, callbacks, validation_split, validation_data, shuffle, class_weight, sample_weight, initial_epoch, steps_per_epoch, validation_steps, **kwargs)\u001b[0m\n\u001b[1;32m   1703\u001b[0m                               \u001b[0minitial_epoch\u001b[0m\u001b[0;34m=\u001b[0m\u001b[0minitial_epoch\u001b[0m\u001b[0;34m,\u001b[0m\u001b[0;34m\u001b[0m\u001b[0m\n\u001b[1;32m   1704\u001b[0m                               \u001b[0msteps_per_epoch\u001b[0m\u001b[0;34m=\u001b[0m\u001b[0msteps_per_epoch\u001b[0m\u001b[0;34m,\u001b[0m\u001b[0;34m\u001b[0m\u001b[0m\n\u001b[0;32m-> 1705\u001b[0;31m                               validation_steps=validation_steps)\n\u001b[0m\u001b[1;32m   1706\u001b[0m \u001b[0;34m\u001b[0m\u001b[0m\n\u001b[1;32m   1707\u001b[0m     def evaluate(self, x=None, y=None,\n",
            "\u001b[0;32m/usr/local/lib/python3.6/dist-packages/keras/engine/training.py\u001b[0m in \u001b[0;36m_fit_loop\u001b[0;34m(self, f, ins, out_labels, batch_size, epochs, verbose, callbacks, val_f, val_ins, shuffle, callback_metrics, initial_epoch, steps_per_epoch, validation_steps)\u001b[0m\n\u001b[1;32m   1234\u001b[0m                         \u001b[0mins_batch\u001b[0m\u001b[0;34m[\u001b[0m\u001b[0mi\u001b[0m\u001b[0;34m]\u001b[0m \u001b[0;34m=\u001b[0m \u001b[0mins_batch\u001b[0m\u001b[0;34m[\u001b[0m\u001b[0mi\u001b[0m\u001b[0;34m]\u001b[0m\u001b[0;34m.\u001b[0m\u001b[0mtoarray\u001b[0m\u001b[0;34m(\u001b[0m\u001b[0;34m)\u001b[0m\u001b[0;34m\u001b[0m\u001b[0m\n\u001b[1;32m   1235\u001b[0m \u001b[0;34m\u001b[0m\u001b[0m\n\u001b[0;32m-> 1236\u001b[0;31m                     \u001b[0mouts\u001b[0m \u001b[0;34m=\u001b[0m \u001b[0mf\u001b[0m\u001b[0;34m(\u001b[0m\u001b[0mins_batch\u001b[0m\u001b[0;34m)\u001b[0m\u001b[0;34m\u001b[0m\u001b[0m\n\u001b[0m\u001b[1;32m   1237\u001b[0m                     \u001b[0;32mif\u001b[0m \u001b[0;32mnot\u001b[0m \u001b[0misinstance\u001b[0m\u001b[0;34m(\u001b[0m\u001b[0mouts\u001b[0m\u001b[0;34m,\u001b[0m \u001b[0mlist\u001b[0m\u001b[0;34m)\u001b[0m\u001b[0;34m:\u001b[0m\u001b[0;34m\u001b[0m\u001b[0m\n\u001b[1;32m   1238\u001b[0m                         \u001b[0mouts\u001b[0m \u001b[0;34m=\u001b[0m \u001b[0;34m[\u001b[0m\u001b[0mouts\u001b[0m\u001b[0;34m]\u001b[0m\u001b[0;34m\u001b[0m\u001b[0m\n",
            "\u001b[0;32m/usr/local/lib/python3.6/dist-packages/keras/backend/tensorflow_backend.py\u001b[0m in \u001b[0;36m__call__\u001b[0;34m(self, inputs)\u001b[0m\n\u001b[1;32m   2480\u001b[0m         \u001b[0msession\u001b[0m \u001b[0;34m=\u001b[0m \u001b[0mget_session\u001b[0m\u001b[0;34m(\u001b[0m\u001b[0;34m)\u001b[0m\u001b[0;34m\u001b[0m\u001b[0m\n\u001b[1;32m   2481\u001b[0m         updated = session.run(fetches=fetches, feed_dict=feed_dict,\n\u001b[0;32m-> 2482\u001b[0;31m                               **self.session_kwargs)\n\u001b[0m\u001b[1;32m   2483\u001b[0m         \u001b[0;32mreturn\u001b[0m \u001b[0mupdated\u001b[0m\u001b[0;34m[\u001b[0m\u001b[0;34m:\u001b[0m\u001b[0mlen\u001b[0m\u001b[0;34m(\u001b[0m\u001b[0mself\u001b[0m\u001b[0;34m.\u001b[0m\u001b[0moutputs\u001b[0m\u001b[0;34m)\u001b[0m\u001b[0;34m]\u001b[0m\u001b[0;34m\u001b[0m\u001b[0m\n\u001b[1;32m   2484\u001b[0m \u001b[0;34m\u001b[0m\u001b[0m\n",
            "\u001b[0;32m/usr/local/lib/python3.6/dist-packages/tensorflow/python/client/session.py\u001b[0m in \u001b[0;36mrun\u001b[0;34m(self, fetches, feed_dict, options, run_metadata)\u001b[0m\n\u001b[1;32m    898\u001b[0m     \u001b[0;32mtry\u001b[0m\u001b[0;34m:\u001b[0m\u001b[0;34m\u001b[0m\u001b[0m\n\u001b[1;32m    899\u001b[0m       result = self._run(None, fetches, feed_dict, options_ptr,\n\u001b[0;32m--> 900\u001b[0;31m                          run_metadata_ptr)\n\u001b[0m\u001b[1;32m    901\u001b[0m       \u001b[0;32mif\u001b[0m \u001b[0mrun_metadata\u001b[0m\u001b[0;34m:\u001b[0m\u001b[0;34m\u001b[0m\u001b[0m\n\u001b[1;32m    902\u001b[0m         \u001b[0mproto_data\u001b[0m \u001b[0;34m=\u001b[0m \u001b[0mtf_session\u001b[0m\u001b[0;34m.\u001b[0m\u001b[0mTF_GetBuffer\u001b[0m\u001b[0;34m(\u001b[0m\u001b[0mrun_metadata_ptr\u001b[0m\u001b[0;34m)\u001b[0m\u001b[0;34m\u001b[0m\u001b[0m\n",
            "\u001b[0;32m/usr/local/lib/python3.6/dist-packages/tensorflow/python/client/session.py\u001b[0m in \u001b[0;36m_run\u001b[0;34m(self, handle, fetches, feed_dict, options, run_metadata)\u001b[0m\n\u001b[1;32m   1133\u001b[0m     \u001b[0;32mif\u001b[0m \u001b[0mfinal_fetches\u001b[0m \u001b[0;32mor\u001b[0m \u001b[0mfinal_targets\u001b[0m \u001b[0;32mor\u001b[0m \u001b[0;34m(\u001b[0m\u001b[0mhandle\u001b[0m \u001b[0;32mand\u001b[0m \u001b[0mfeed_dict_tensor\u001b[0m\u001b[0;34m)\u001b[0m\u001b[0;34m:\u001b[0m\u001b[0;34m\u001b[0m\u001b[0m\n\u001b[1;32m   1134\u001b[0m       results = self._do_run(handle, final_targets, final_fetches,\n\u001b[0;32m-> 1135\u001b[0;31m                              feed_dict_tensor, options, run_metadata)\n\u001b[0m\u001b[1;32m   1136\u001b[0m     \u001b[0;32melse\u001b[0m\u001b[0;34m:\u001b[0m\u001b[0;34m\u001b[0m\u001b[0m\n\u001b[1;32m   1137\u001b[0m       \u001b[0mresults\u001b[0m \u001b[0;34m=\u001b[0m \u001b[0;34m[\u001b[0m\u001b[0;34m]\u001b[0m\u001b[0;34m\u001b[0m\u001b[0m\n",
            "\u001b[0;32m/usr/local/lib/python3.6/dist-packages/tensorflow/python/client/session.py\u001b[0m in \u001b[0;36m_do_run\u001b[0;34m(self, handle, target_list, fetch_list, feed_dict, options, run_metadata)\u001b[0m\n\u001b[1;32m   1314\u001b[0m     \u001b[0;32mif\u001b[0m \u001b[0mhandle\u001b[0m \u001b[0;32mis\u001b[0m \u001b[0;32mNone\u001b[0m\u001b[0;34m:\u001b[0m\u001b[0;34m\u001b[0m\u001b[0m\n\u001b[1;32m   1315\u001b[0m       return self._do_call(_run_fn, feeds, fetches, targets, options,\n\u001b[0;32m-> 1316\u001b[0;31m                            run_metadata)\n\u001b[0m\u001b[1;32m   1317\u001b[0m     \u001b[0;32melse\u001b[0m\u001b[0;34m:\u001b[0m\u001b[0;34m\u001b[0m\u001b[0m\n\u001b[1;32m   1318\u001b[0m       \u001b[0;32mreturn\u001b[0m \u001b[0mself\u001b[0m\u001b[0;34m.\u001b[0m\u001b[0m_do_call\u001b[0m\u001b[0;34m(\u001b[0m\u001b[0m_prun_fn\u001b[0m\u001b[0;34m,\u001b[0m \u001b[0mhandle\u001b[0m\u001b[0;34m,\u001b[0m \u001b[0mfeeds\u001b[0m\u001b[0;34m,\u001b[0m \u001b[0mfetches\u001b[0m\u001b[0;34m)\u001b[0m\u001b[0;34m\u001b[0m\u001b[0m\n",
            "\u001b[0;32m/usr/local/lib/python3.6/dist-packages/tensorflow/python/client/session.py\u001b[0m in \u001b[0;36m_do_call\u001b[0;34m(self, fn, *args)\u001b[0m\n\u001b[1;32m   1320\u001b[0m   \u001b[0;32mdef\u001b[0m \u001b[0m_do_call\u001b[0m\u001b[0;34m(\u001b[0m\u001b[0mself\u001b[0m\u001b[0;34m,\u001b[0m \u001b[0mfn\u001b[0m\u001b[0;34m,\u001b[0m \u001b[0;34m*\u001b[0m\u001b[0margs\u001b[0m\u001b[0;34m)\u001b[0m\u001b[0;34m:\u001b[0m\u001b[0;34m\u001b[0m\u001b[0m\n\u001b[1;32m   1321\u001b[0m     \u001b[0;32mtry\u001b[0m\u001b[0;34m:\u001b[0m\u001b[0;34m\u001b[0m\u001b[0m\n\u001b[0;32m-> 1322\u001b[0;31m       \u001b[0;32mreturn\u001b[0m \u001b[0mfn\u001b[0m\u001b[0;34m(\u001b[0m\u001b[0;34m*\u001b[0m\u001b[0margs\u001b[0m\u001b[0;34m)\u001b[0m\u001b[0;34m\u001b[0m\u001b[0m\n\u001b[0m\u001b[1;32m   1323\u001b[0m     \u001b[0;32mexcept\u001b[0m \u001b[0merrors\u001b[0m\u001b[0;34m.\u001b[0m\u001b[0mOpError\u001b[0m \u001b[0;32mas\u001b[0m \u001b[0me\u001b[0m\u001b[0;34m:\u001b[0m\u001b[0;34m\u001b[0m\u001b[0m\n\u001b[1;32m   1324\u001b[0m       \u001b[0mmessage\u001b[0m \u001b[0;34m=\u001b[0m \u001b[0mcompat\u001b[0m\u001b[0;34m.\u001b[0m\u001b[0mas_text\u001b[0m\u001b[0;34m(\u001b[0m\u001b[0me\u001b[0m\u001b[0;34m.\u001b[0m\u001b[0mmessage\u001b[0m\u001b[0;34m)\u001b[0m\u001b[0;34m\u001b[0m\u001b[0m\n",
            "\u001b[0;32m/usr/local/lib/python3.6/dist-packages/tensorflow/python/client/session.py\u001b[0m in \u001b[0;36m_run_fn\u001b[0;34m(feed_dict, fetch_list, target_list, options, run_metadata)\u001b[0m\n\u001b[1;32m   1305\u001b[0m       \u001b[0mself\u001b[0m\u001b[0;34m.\u001b[0m\u001b[0m_extend_graph\u001b[0m\u001b[0;34m(\u001b[0m\u001b[0;34m)\u001b[0m\u001b[0;34m\u001b[0m\u001b[0m\n\u001b[1;32m   1306\u001b[0m       return self._call_tf_sessionrun(\n\u001b[0;32m-> 1307\u001b[0;31m           options, feed_dict, fetch_list, target_list, run_metadata)\n\u001b[0m\u001b[1;32m   1308\u001b[0m \u001b[0;34m\u001b[0m\u001b[0m\n\u001b[1;32m   1309\u001b[0m     \u001b[0;32mdef\u001b[0m \u001b[0m_prun_fn\u001b[0m\u001b[0;34m(\u001b[0m\u001b[0mhandle\u001b[0m\u001b[0;34m,\u001b[0m \u001b[0mfeed_dict\u001b[0m\u001b[0;34m,\u001b[0m \u001b[0mfetch_list\u001b[0m\u001b[0;34m)\u001b[0m\u001b[0;34m:\u001b[0m\u001b[0;34m\u001b[0m\u001b[0m\n",
            "\u001b[0;32m/usr/local/lib/python3.6/dist-packages/tensorflow/python/client/session.py\u001b[0m in \u001b[0;36m_call_tf_sessionrun\u001b[0;34m(self, options, feed_dict, fetch_list, target_list, run_metadata)\u001b[0m\n\u001b[1;32m   1407\u001b[0m       return tf_session.TF_SessionRun_wrapper(\n\u001b[1;32m   1408\u001b[0m           \u001b[0mself\u001b[0m\u001b[0;34m.\u001b[0m\u001b[0m_session\u001b[0m\u001b[0;34m,\u001b[0m \u001b[0moptions\u001b[0m\u001b[0;34m,\u001b[0m \u001b[0mfeed_dict\u001b[0m\u001b[0;34m,\u001b[0m \u001b[0mfetch_list\u001b[0m\u001b[0;34m,\u001b[0m \u001b[0mtarget_list\u001b[0m\u001b[0;34m,\u001b[0m\u001b[0;34m\u001b[0m\u001b[0m\n\u001b[0;32m-> 1409\u001b[0;31m           run_metadata)\n\u001b[0m\u001b[1;32m   1410\u001b[0m     \u001b[0;32melse\u001b[0m\u001b[0;34m:\u001b[0m\u001b[0;34m\u001b[0m\u001b[0m\n\u001b[1;32m   1411\u001b[0m       \u001b[0;32mwith\u001b[0m \u001b[0merrors\u001b[0m\u001b[0;34m.\u001b[0m\u001b[0mraise_exception_on_not_ok_status\u001b[0m\u001b[0;34m(\u001b[0m\u001b[0;34m)\u001b[0m \u001b[0;32mas\u001b[0m \u001b[0mstatus\u001b[0m\u001b[0;34m:\u001b[0m\u001b[0;34m\u001b[0m\u001b[0m\n",
            "\u001b[0;31mKeyboardInterrupt\u001b[0m: "
          ]
        }
      ]
    },
    {
      "metadata": {
        "id": "7maBgZaxh4_I",
        "colab_type": "text"
      },
      "cell_type": "markdown",
      "source": [
        "# Evaluate NN - Simulate BER Curves"
      ]
    },
    {
      "metadata": {
        "id": "9498aQ_jh4_K",
        "colab_type": "code",
        "colab": {
          "autoexec": {
            "startup": false,
            "wait_interval": 0
          }
        }
      },
      "cell_type": "code",
      "source": [
        "test_batch = 1000  \n",
        "num_words = 10000      # multiple of test_batch\n",
        "\n",
        "SNR_dB_start_Eb = 0\n",
        "SNR_dB_stop_Eb = 5\n",
        "SNR_points = 20\n"
      ],
      "execution_count": 0,
      "outputs": []
    },
    {
      "metadata": {
        "id": "RTAI_1_vh4_T",
        "colab_type": "code",
        "colab": {
          "autoexec": {
            "startup": false,
            "wait_interval": 0
          }
        }
      },
      "cell_type": "code",
      "source": [
        "SNR_dB_start_Es = SNR_dB_start_Eb + 10*np.log10(k/N)\n",
        "SNR_dB_stop_Es = SNR_dB_stop_Eb + 10*np.log10(k/N)\n",
        "\n",
        "sigma_start = np.sqrt(1/(2*10**(SNR_dB_start_Es/10)))\n",
        "sigma_stop = np.sqrt(1/(2*10**(SNR_dB_stop_Es/10)))\n",
        "\n",
        "sigmas = np.linspace(sigma_start, sigma_stop, SNR_points)\n",
        "\n",
        "nb_errors = np.zeros(len(sigmas),dtype=float)\n",
        "nb_bits = np.zeros(len(sigmas),dtype=int)\n",
        "\n",
        "#print(range(0,len(sigmas)))\n",
        "\n",
        "#print (range(0,np.round(num_words/test_batch).astype(int)))\n",
        "\n",
        "\n",
        "for i in range(0,len(sigmas)):\n",
        "\n",
        "    for ii in range(0,np.round(num_words/test_batch).astype(int)):\n",
        "        \n",
        "        # Source\n",
        "        np.random.seed(0)\n",
        "        d_test = np.random.randint(0,2,size=(test_batch,k)) \n",
        "\n",
        "        # Encoder\n",
        "        if code == 'polar':\n",
        "            x_test = np.zeros((test_batch, N),dtype=bool)\n",
        "            u_test = np.zeros((test_batch, N),dtype=bool)\n",
        "            u_test[:,A] = d_test\n",
        "\n",
        "            for iii in range(0,test_batch):\n",
        "                x_test[iii] = polar_transform_iter(u_test[iii])\n",
        "\n",
        "        elif code == 'random':\n",
        "            x_test = np.zeros((test_batch, N),dtype=bool)\n",
        "            for iii in range(0,test_batch):\n",
        "                x_test[iii] = x[bin2int(d_test[iii])]\n",
        "\n",
        "        # Modulator (BPSK)\n",
        "        s_test = -2*x_test + 1\n",
        "\n",
        "        # Channel (AWGN)\n",
        "        y_test = s_test + sigmas[i]*np.random.standard_normal(s_test.shape)\n",
        "\n",
        "        if LLR:\n",
        "            y_test = 2*y_test/(sigmas[i]**2)\n",
        "\n",
        "        # Decoder\n",
        "        #nb_errors[i] += model_resnet.evaluate(y_test, [d_test,d_test], batch_size=test_batch, verbose=0)[3]\n",
        "        nb_errors[i] += decoder_nn.evaluate(y_test, d_test, batch_size=test_batch, verbose=0)[1]\n",
        "        \n",
        "        #print(model_resnet.evaluate(y_test, [d_test,d_test], batch_size=test_batch, verbose=0))\n",
        "        #print(model_resnet.evaluate(y_test, [d_test,d_test], batch_size=test_batch, verbose=0)[1])\n",
        "        \n",
        "        #nb_errors[i] += model_resnet_short.evaluate(y_test, d_test, batch_size=test_batch, verbose=0)[1]\n",
        "        #print(model_resnet_short.evaluate(y_test, d_test, batch_size=test_batch, verbose=0))\n",
        "        #print(model_resnet_short.evaluate(y_test, d_test, batch_size=test_batch, verbose=0)[1])\n",
        "        \n",
        "        nb_bits[i] += d_test.size\n",
        "        \n",
        "        \n",
        "            "
      ],
      "execution_count": 0,
      "outputs": []
    },
    {
      "metadata": {
        "id": "iIwAOclfh4_W",
        "colab_type": "text"
      },
      "cell_type": "markdown",
      "source": [
        "# Plot Bit-Error-Rate"
      ]
    },
    {
      "metadata": {
        "id": "_APxwZ-nh4_X",
        "colab_type": "code",
        "colab": {
          "autoexec": {
            "startup": false,
            "wait_interval": 0
          },
          "base_uri": "https://localhost:8080/",
          "height": 283
        },
        "outputId": "4a5f1e4a-221c-45e3-da2f-e8858c81d106",
        "executionInfo": {
          "status": "ok",
          "timestamp": 1531787702679,
          "user_tz": -120,
          "elapsed": 2379,
          "user": {
            "displayName": "Vivek ramalingam k",
            "photoUrl": "https://lh3.googleusercontent.com/a/default-user=s128",
            "userId": "113898794527632622346"
          }
        }
      },
      "cell_type": "code",
      "source": [
        "legend = []\n",
        "\n",
        "plt.plot(10*np.log10(1/(2*sigmas**2)) - 10*np.log10(k/N), nb_errors/nb_bits)\n",
        "legend.append('NN') \n",
        "\n",
        "\n",
        "plt.legend(legend, loc=3)\n",
        "plt.yscale('log')\n",
        "plt.xlabel('$E_b/N_0$')\n",
        "plt.ylabel('BER')    \n",
        "plt.grid(True)\n",
        "plt.show()"
      ],
      "execution_count": 15,
      "outputs": [
        {
          "output_type": "display_data",
          "data": {
            "image/png": "[encoded data removed]",
            "text/plain": [
              "<matplotlib.figure.Figure at 0x7fb8fca1de48>"
            ]
          },
          "metadata": {
            "tags": []
          }
        }
      ]
    },
    {
      "metadata": {
        "id": "BIIUC3N4DtvR",
        "colab_type": "code",
        "colab": {
          "autoexec": {
            "startup": false,
            "wait_interval": 0
          }
        }
      },
      "cell_type": "code",
      "source": [
        ""
      ],
      "execution_count": 0,
      "outputs": []
    },
    {
      "metadata": {
        "id": "mgGVFxGCDuN7",
        "colab_type": "code",
        "colab": {
          "autoexec": {
            "startup": false,
            "wait_interval": 0
          },
          "base_uri": "https://localhost:8080/",
          "height": 301
        },
        "outputId": "aeaf675a-0b75-4465-84cb-100145409091",
        "executionInfo": {
          "status": "ok",
          "timestamp": 1531787705964,
          "user_tz": -120,
          "elapsed": 1708,
          "user": {
            "displayName": "Vivek ramalingam k",
            "photoUrl": "https://lh3.googleusercontent.com/a/default-user=s128",
            "userId": "113898794527632622346"
          }
        }
      },
      "cell_type": "code",
      "source": [
        "legend = []\n",
        "\n",
        "plt.plot(10*np.log10(1/(2*sigmas**2)) - 10*np.log10(k/N), nb_errors/nb_bits)\n",
        "legend.append('NN') \n",
        "\n",
        "print(np.shape(nb_errors))\n",
        "\n",
        "\n",
        "plt.legend(legend, loc=3)\n",
        "plt.yscale('log')\n",
        "plt.xlabel('$E_b/N_0$')\n",
        "plt.ylabel('BER')    \n",
        "plt.grid(True)\n",
        "plt.show()"
      ],
      "execution_count": 16,
      "outputs": [
        {
          "output_type": "stream",
          "text": [
            "(20,)\n"
          ],
          "name": "stdout"
        },
        {
          "output_type": "display_data",
          "data": {
            "image/png": "[encoded data removed]",
            "text/plain": [
              "<matplotlib.figure.Figure at 0x7fb8fcb36390>"
            ]
          },
          "metadata": {
            "tags": []
          }
        }
      ]
    },
    {
      "metadata": {
        "id": "MLAJZFS1a1Xl",
        "colab_type": "code",
        "colab": {
          "autoexec": {
            "startup": false,
            "wait_interval": 0
          }
        }
      },
      "cell_type": "code",
      "source": [
        ""
      ],
      "execution_count": 0,
      "outputs": []
    }
  ]
}